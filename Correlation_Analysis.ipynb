{
 "cells": [
  {
   "cell_type": "code",
   "execution_count": null,
   "metadata": {},
   "outputs": [],
   "source": [
    "import numpy as np\n",
    "from scipy import stats\n",
    "import pandas as pd\n",
    "import os"
   ]
  },
  {
   "cell_type": "code",
   "execution_count": null,
   "metadata": {},
   "outputs": [],
   "source": [
    "bitcoin_pr = pd.read_csv('bitcoin_price_with_technical_indicators.csv')\n",
    "df = pd.read_csv('onchain_merged.csv')"
   ]
  },
  {
   "cell_type": "code",
   "execution_count": null,
   "metadata": {},
   "outputs": [],
   "source": [
    "bitcoin_pr"
   ]
  },
  {
   "cell_type": "code",
   "execution_count": null,
   "metadata": {},
   "outputs": [],
   "source": [
    "onchain = df.drop(columns=['Date','Unnamed: 0','Bitcoin Tweets historical chart', 'bitcoin_tweets'])"
   ]
  },
  {
   "cell_type": "code",
   "execution_count": null,
   "metadata": {},
   "outputs": [],
   "source": [
    "from sklearn.preprocessing import MinMaxScaler\n",
    "\n",
    "scaler = MinMaxScaler()\n",
    "\n",
    "scaled_bitcoin_price = scaler.fit_transform(np.array(bitcoin_pr['Close']).reshape(-1,1))\n",
    "scaled_prediction_data = scaler.fit_transform(onchain)"
   ]
  },
  {
   "cell_type": "code",
   "execution_count": null,
   "metadata": {},
   "outputs": [],
   "source": [
    "btc_price = pd.DataFrame(scaled_bitcoin_price, columns=['Close'])\n",
    "onchain = pd.DataFrame(scaled_prediction_data, columns=onchain.columns)"
   ]
  },
  {
   "cell_type": "code",
   "execution_count": null,
   "metadata": {},
   "outputs": [],
   "source": [
    "merged = pd.concat([btc_price,onchain], axis=1, ignore_index=True)"
   ]
  },
  {
   "cell_type": "code",
   "execution_count": null,
   "metadata": {},
   "outputs": [],
   "source": [
    "temp = ['Close',\n",
    " 'Market capitalization',\n",
    " 'Average mining difficulty',\n",
    " 'Average transaction fee',\n",
    " 'Average transaction value',\n",
    " 'Bitcoin mining profitability',\n",
    " 'Bitcoin_sent',\n",
    " 'Block size',\n",
    " 'Block time',\n",
    " 'Fee in reward',\n",
    " 'Hash rate',\n",
    " 'Number of unique addresses',\n",
    " 'Transactions']"
   ]
  },
  {
   "cell_type": "code",
   "execution_count": null,
   "metadata": {},
   "outputs": [],
   "source": [
    "merged.columns = temp"
   ]
  },
  {
   "cell_type": "code",
   "execution_count": null,
   "metadata": {},
   "outputs": [],
   "source": [
    "correlation_matrix = merged.corr()"
   ]
  },
  {
   "cell_type": "code",
   "execution_count": null,
   "metadata": {},
   "outputs": [],
   "source": [
    "import seaborn as sns\n",
    "import matplotlib.pyplot as plt\n",
    "\n",
    "# Heatmap \n",
    "plt.figure(figsize=(10*0.7, 8*0.7))\n",
    "sns.heatmap(correlation_matrix, annot=True, cmap='coolwarm', fmt=\".2f\", linewidths=0.5)\n",
    "plt.title('Correlation Heatmap')\n",
    "plt.show()"
   ]
  },
  {
   "cell_type": "code",
   "execution_count": null,
   "metadata": {},
   "outputs": [],
   "source": [
    "merged.columns"
   ]
  },
  {
   "cell_type": "code",
   "execution_count": null,
   "metadata": {},
   "outputs": [],
   "source": [
    "plot_df.columns"
   ]
  },
  {
   "cell_type": "code",
   "execution_count": null,
   "metadata": {},
   "outputs": [],
   "source": [
    "plot_df = pd.read_csv('onchain_merged.csv')\n",
    "plot_df = plot_df[['Date','average_mining_difficulty', 'average_transaction_value','bitcoin_sent ', 'hast_rate', 'Number of unique addresses per day']]\n",
    "# 'Average mining difficulty', 'Average transaction value','Bitcoin_sent','Hash rate','Number of unique addresses'\n",
    "plot_df.columns = ['Date', 'Average mining difficulty', 'Average transaction value','Bitcoin_sent','Hash rate','Number of unique addresses']"
   ]
  },
  {
   "cell_type": "code",
   "execution_count": null,
   "metadata": {},
   "outputs": [],
   "source": [
    "plot_df['Date'] = pd.to_datetime(plot_df['Date'])"
   ]
  },
  {
   "cell_type": "code",
   "execution_count": null,
   "metadata": {},
   "outputs": [],
   "source": [
    "import seaborn as sns\n",
    "import matplotlib.pyplot as plt\n",
    "\n",
    "plt.rc('font', size=12)  # 전체 폰트 크기\n",
    "\n",
    "fig, axes = plt.subplots(nrows=3, ncols=2, figsize=(15, 8))\n",
    "\n",
    "# 데이터프레임의 특정 수치열 시각화\n",
    "sns.lineplot(data=plot_df, x='Date', y='Average mining difficulty',ax=axes[0, 0])\n",
    "axes[0, 0].set_title('Average mining difficulty')\n",
    "\n",
    "sns.lineplot(data=plot_df, x='Date', y='Average transaction value',ax=axes[0, 1])\n",
    "axes[0, 1].set_title('Average transaction value')\n",
    "\n",
    "sns.lineplot(data=plot_df, x='Date', y='Bitcoin_sent',ax=axes[1, 0])\n",
    "axes[1, 0].set_title('Bitcoin_sent')\n",
    "\n",
    "sns.lineplot(data=plot_df, x='Date', y='Hash rate',ax=axes[1, 1])\n",
    "axes[1, 1].set_title('Hash rate')\n",
    "\n",
    "sns.lineplot(data=plot_df, x='Date', y='Average mining difficulty',ax=axes[2, 0])\n",
    "axes[2, 0].set_title('Average mining difficulty')\n",
    "\n",
    "sns.lineplot(data=plot_df, x='Date', y='Number of unique addresses',ax=axes[2, 1])\n",
    "axes[2, 1].set_title('Number of unique addresses')\n",
    "\n",
    "plt.suptitle('Bitcoin on-chain data visualization')\n",
    "plt.tight_layout()\n",
    "plt.show()\n"
   ]
  }
 ],
 "metadata": {
  "kernelspec": {
   "display_name": "Python 3",
   "language": "python",
   "name": "python3"
  },
  "language_info": {
   "codemirror_mode": {
    "name": "ipython",
    "version": 3
   },
   "file_extension": ".py",
   "mimetype": "text/x-python",
   "name": "python",
   "nbconvert_exporter": "python",
   "pygments_lexer": "ipython3",
   "version": "3.11.4"
  }
 },
 "nbformat": 4,
 "nbformat_minor": 2
}
